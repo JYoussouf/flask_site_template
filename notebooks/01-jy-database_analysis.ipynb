{
 "cells": [
  {
   "cell_type": "markdown",
   "metadata": {},
   "source": [
    "# Try to Access data from sql db"
   ]
  },
  {
   "cell_type": "code",
   "execution_count": 2,
   "metadata": {},
   "outputs": [],
   "source": [
    "import sqlite3"
   ]
  },
  {
   "cell_type": "code",
   "execution_count": 10,
   "metadata": {},
   "outputs": [
    {
     "name": "stdout",
     "output_type": "stream",
     "text": [
      "__init__.py   auth.py      models.py  \u001b[0m\u001b[01;34mtemplates\u001b[0m/\n",
      "\u001b[01;34m__pycache__\u001b[0m/  database.db  \u001b[01;34mstatic\u001b[0m/    views.py\n"
     ]
    }
   ],
   "source": [
    "ls '../website'"
   ]
  },
  {
   "cell_type": "code",
   "execution_count": 11,
   "metadata": {},
   "outputs": [],
   "source": [
    "dbfile = '../website/database.db'"
   ]
  },
  {
   "cell_type": "code",
   "execution_count": 12,
   "metadata": {},
   "outputs": [],
   "source": [
    "con = sqlite3.connect(dbfile)"
   ]
  },
  {
   "cell_type": "code",
   "execution_count": 19,
   "metadata": {},
   "outputs": [
    {
     "data": {
      "text/plain": [
       "[(1, '[2022-05-21] Note1: At starbucks xd', '2022-05-21 22:38:40', 1),\n",
       " (3, 'hi hi hi hi\\r\\n', '2022-06-05 19:37:20', 1),\n",
       " (4, 'testing my notes', '2022-06-05 19:37:23', 1),\n",
       " (5, '[2022-06-05] accessing database!', '2022-06-05 19:37:37', 1),\n",
       " (6, 'test_note second user\\r\\n', '2022-06-05 19:40:30', 2),\n",
       " (7, '[2022-06-27] Writing a note! Hi! ', '2022-06-28 02:13:10', 1),\n",
       " (8, 'Making notes as demo user!', '2022-06-28 02:19:35', 3),\n",
       " (9, '( ◑‿◑)ɔ┏🍟--🍔┑٩(^◡^ )', '2022-06-28 02:20:57', 3)]"
      ]
     },
     "execution_count": 19,
     "metadata": {},
     "output_type": "execute_result"
    }
   ],
   "source": [
    "cur = con.cursor()\n",
    "cur.execute(\"SELECT * FROM Note\")\n",
    "cur.fetchall()"
   ]
  },
  {
   "cell_type": "code",
   "execution_count": 18,
   "metadata": {},
   "outputs": [
    {
     "data": {
      "text/plain": [
       "[(1,\n",
       "  'josephyoussouf@hotmail.com',\n",
       "  'sha256$lilOY0t8Ay75JvJP$426454ca25fcd89584077e2d410e16872319afc9a4264f6936b91b8302afcea6',\n",
       "  'Joseppy'),\n",
       " (2,\n",
       "  'test@test.com',\n",
       "  'sha256$Qu6WAkICGUPjxDd2$7d6f3aa507c29dd332f335aa0b454a9162083886c76c996876bc0d3226c6ee5d',\n",
       "  'testuser'),\n",
       " (3,\n",
       "  'demo@joseph.com',\n",
       "  'sha256$4zg3Ymfz9hbxF7Nt$a81891470b39d671fd0c15bb999e7a1a5de9281d1113ffa99c3378555daca876',\n",
       "  'Joseppy')]"
      ]
     },
     "execution_count": 18,
     "metadata": {},
     "output_type": "execute_result"
    }
   ],
   "source": [
    "cur = con.cursor()\n",
    "cur.execute(\"SELECT * FROM User\")\n",
    "cur.fetchall()"
   ]
  }
 ],
 "metadata": {
  "interpreter": {
   "hash": "fae37402423165cd5b4758321b3712f96cec9386f4a34f16d7fb4e2bc130e760"
  },
  "kernelspec": {
   "display_name": "Python 3.8.10 ('venv': venv)",
   "language": "python",
   "name": "python3"
  },
  "language_info": {
   "codemirror_mode": {
    "name": "ipython",
    "version": 3
   },
   "file_extension": ".py",
   "mimetype": "text/x-python",
   "name": "python",
   "nbconvert_exporter": "python",
   "pygments_lexer": "ipython3",
   "version": "3.8.10"
  },
  "orig_nbformat": 4
 },
 "nbformat": 4,
 "nbformat_minor": 2
}
