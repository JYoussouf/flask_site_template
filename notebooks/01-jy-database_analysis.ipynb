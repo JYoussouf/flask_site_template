{
 "cells": [
  {
   "cell_type": "markdown",
   "metadata": {},
   "source": [
    "# Connect to SQL DB "
   ]
  },
  {
   "cell_type": "code",
   "execution_count": 2,
   "metadata": {},
   "outputs": [],
   "source": [
    "import pandas as pd\n",
    "import sqlite3"
   ]
  },
  {
   "cell_type": "code",
   "execution_count": 5,
   "metadata": {},
   "outputs": [
    {
     "name": "stdout",
     "output_type": "stream",
     "text": [
      "database.db\n"
     ]
    }
   ],
   "source": [
    "# After running \"flask run\", the db should be created\n",
    "ls '../instance'"
   ]
  },
  {
   "cell_type": "code",
   "execution_count": 4,
   "metadata": {},
   "outputs": [],
   "source": [
    "dbfile = '../instance/database.db'"
   ]
  },
  {
   "cell_type": "code",
   "execution_count": 6,
   "metadata": {},
   "outputs": [],
   "source": [
    "con = sqlite3.connect(dbfile)"
   ]
  },
  {
   "cell_type": "markdown",
   "metadata": {},
   "source": [
    "# Accessing Data from Note Table"
   ]
  },
  {
   "cell_type": "code",
   "execution_count": 7,
   "metadata": {},
   "outputs": [],
   "source": [
    "cur = con.cursor()\n",
    "cur.execute(\"SELECT * FROM Note\")\n",
    "note_data = cur.fetchall()\n",
    "cur.close()"
   ]
  },
  {
   "cell_type": "code",
   "execution_count": 24,
   "metadata": {},
   "outputs": [
    {
     "data": {
      "text/html": [
       "<div>\n",
       "<style scoped>\n",
       "    .dataframe tbody tr th:only-of-type {\n",
       "        vertical-align: middle;\n",
       "    }\n",
       "\n",
       "    .dataframe tbody tr th {\n",
       "        vertical-align: top;\n",
       "    }\n",
       "\n",
       "    .dataframe thead th {\n",
       "        text-align: right;\n",
       "    }\n",
       "</style>\n",
       "<table border=\"1\" class=\"dataframe\">\n",
       "  <thead>\n",
       "    <tr style=\"text-align: right;\">\n",
       "      <th></th>\n",
       "      <th>note_id</th>\n",
       "      <th>note</th>\n",
       "      <th>datetime</th>\n",
       "      <th>user_id</th>\n",
       "    </tr>\n",
       "  </thead>\n",
       "  <tbody>\n",
       "    <tr>\n",
       "      <th>0</th>\n",
       "      <td>1</td>\n",
       "      <td>[2022-05-21] Note1: At starbucks xd</td>\n",
       "      <td>2022-05-21 22:38:40</td>\n",
       "      <td>1</td>\n",
       "    </tr>\n",
       "    <tr>\n",
       "      <th>1</th>\n",
       "      <td>3</td>\n",
       "      <td>hi hi hi hi\\r\\n</td>\n",
       "      <td>2022-06-05 19:37:20</td>\n",
       "      <td>1</td>\n",
       "    </tr>\n",
       "    <tr>\n",
       "      <th>2</th>\n",
       "      <td>4</td>\n",
       "      <td>testing my notes</td>\n",
       "      <td>2022-06-05 19:37:23</td>\n",
       "      <td>1</td>\n",
       "    </tr>\n",
       "    <tr>\n",
       "      <th>3</th>\n",
       "      <td>5</td>\n",
       "      <td>[2022-06-05] accessing database!</td>\n",
       "      <td>2022-06-05 19:37:37</td>\n",
       "      <td>1</td>\n",
       "    </tr>\n",
       "    <tr>\n",
       "      <th>4</th>\n",
       "      <td>6</td>\n",
       "      <td>test_note second user\\r\\n</td>\n",
       "      <td>2022-06-05 19:40:30</td>\n",
       "      <td>2</td>\n",
       "    </tr>\n",
       "    <tr>\n",
       "      <th>5</th>\n",
       "      <td>7</td>\n",
       "      <td>[2022-06-27] Writing a note! Hi!</td>\n",
       "      <td>2022-06-28 02:13:10</td>\n",
       "      <td>1</td>\n",
       "    </tr>\n",
       "    <tr>\n",
       "      <th>6</th>\n",
       "      <td>8</td>\n",
       "      <td>Making notes as demo user!</td>\n",
       "      <td>2022-06-28 02:19:35</td>\n",
       "      <td>3</td>\n",
       "    </tr>\n",
       "    <tr>\n",
       "      <th>7</th>\n",
       "      <td>9</td>\n",
       "      <td>( ◑‿◑)ɔ┏🍟--🍔┑٩(^◡^ )</td>\n",
       "      <td>2022-06-28 02:20:57</td>\n",
       "      <td>3</td>\n",
       "    </tr>\n",
       "    <tr>\n",
       "      <th>8</th>\n",
       "      <td>12</td>\n",
       "      <td>Hello! #MyFirstNote</td>\n",
       "      <td>2022-06-28 02:32:52</td>\n",
       "      <td>4</td>\n",
       "    </tr>\n",
       "  </tbody>\n",
       "</table>\n",
       "</div>"
      ],
      "text/plain": [
       "   note_id                                 note             datetime  user_id\n",
       "0        1  [2022-05-21] Note1: At starbucks xd  2022-05-21 22:38:40        1\n",
       "1        3                      hi hi hi hi\\r\\n  2022-06-05 19:37:20        1\n",
       "2        4                     testing my notes  2022-06-05 19:37:23        1\n",
       "3        5     [2022-06-05] accessing database!  2022-06-05 19:37:37        1\n",
       "4        6            test_note second user\\r\\n  2022-06-05 19:40:30        2\n",
       "5        7    [2022-06-27] Writing a note! Hi!   2022-06-28 02:13:10        1\n",
       "6        8           Making notes as demo user!  2022-06-28 02:19:35        3\n",
       "7        9                 ( ◑‿◑)ɔ┏🍟--🍔┑٩(^◡^ )  2022-06-28 02:20:57        3\n",
       "8       12                  Hello! #MyFirstNote  2022-06-28 02:32:52        4"
      ]
     },
     "execution_count": 24,
     "metadata": {},
     "output_type": "execute_result"
    }
   ],
   "source": [
    "note_df = pd.DataFrame(data=note_data, columns=['note_id','note','datetime','user_id'])\n",
    "note_df"
   ]
  },
  {
   "cell_type": "markdown",
   "metadata": {},
   "source": [
    "# Accessing Data from User Table"
   ]
  },
  {
   "cell_type": "code",
   "execution_count": 26,
   "metadata": {},
   "outputs": [],
   "source": [
    "cur = con.cursor()\n",
    "cur.execute(\"SELECT * FROM User\")\n",
    "user_data = cur.fetchall()\n",
    "cur.close()"
   ]
  },
  {
   "cell_type": "code",
   "execution_count": 28,
   "metadata": {},
   "outputs": [
    {
     "data": {
      "text/html": [
       "<div>\n",
       "<style scoped>\n",
       "    .dataframe tbody tr th:only-of-type {\n",
       "        vertical-align: middle;\n",
       "    }\n",
       "\n",
       "    .dataframe tbody tr th {\n",
       "        vertical-align: top;\n",
       "    }\n",
       "\n",
       "    .dataframe thead th {\n",
       "        text-align: right;\n",
       "    }\n",
       "</style>\n",
       "<table border=\"1\" class=\"dataframe\">\n",
       "  <thead>\n",
       "    <tr style=\"text-align: right;\">\n",
       "      <th></th>\n",
       "      <th>user_id</th>\n",
       "      <th>email</th>\n",
       "      <th>password</th>\n",
       "      <th>username</th>\n",
       "    </tr>\n",
       "  </thead>\n",
       "  <tbody>\n",
       "    <tr>\n",
       "      <th>0</th>\n",
       "      <td>1</td>\n",
       "      <td>josephyoussouf@hotmail.com</td>\n",
       "      <td>sha256$lilOY0t8Ay75JvJP$426454ca25fcd89584077e...</td>\n",
       "      <td>Joseppy</td>\n",
       "    </tr>\n",
       "    <tr>\n",
       "      <th>1</th>\n",
       "      <td>2</td>\n",
       "      <td>test@test.com</td>\n",
       "      <td>sha256$Qu6WAkICGUPjxDd2$7d6f3aa507c29dd332f335...</td>\n",
       "      <td>testuser</td>\n",
       "    </tr>\n",
       "    <tr>\n",
       "      <th>2</th>\n",
       "      <td>3</td>\n",
       "      <td>demo@joseph.com</td>\n",
       "      <td>sha256$4zg3Ymfz9hbxF7Nt$a81891470b39d671fd0c15...</td>\n",
       "      <td>Joseppy</td>\n",
       "    </tr>\n",
       "    <tr>\n",
       "      <th>3</th>\n",
       "      <td>4</td>\n",
       "      <td>Rudy@hotmail.com</td>\n",
       "      <td>sha256$oYo6PvvnXrYPUfWy$f88996ae23e193a42333e1...</td>\n",
       "      <td>RudyCo</td>\n",
       "    </tr>\n",
       "  </tbody>\n",
       "</table>\n",
       "</div>"
      ],
      "text/plain": [
       "   user_id                       email  \\\n",
       "0        1  josephyoussouf@hotmail.com   \n",
       "1        2               test@test.com   \n",
       "2        3             demo@joseph.com   \n",
       "3        4            Rudy@hotmail.com   \n",
       "\n",
       "                                            password  username  \n",
       "0  sha256$lilOY0t8Ay75JvJP$426454ca25fcd89584077e...   Joseppy  \n",
       "1  sha256$Qu6WAkICGUPjxDd2$7d6f3aa507c29dd332f335...  testuser  \n",
       "2  sha256$4zg3Ymfz9hbxF7Nt$a81891470b39d671fd0c15...   Joseppy  \n",
       "3  sha256$oYo6PvvnXrYPUfWy$f88996ae23e193a42333e1...    RudyCo  "
      ]
     },
     "execution_count": 28,
     "metadata": {},
     "output_type": "execute_result"
    }
   ],
   "source": [
    "user_df = pd.DataFrame(data=user_data, columns=['user_id','email','password','username'])\n",
    "user_df"
   ]
  }
 ],
 "metadata": {
  "interpreter": {
   "hash": "fae37402423165cd5b4758321b3712f96cec9386f4a34f16d7fb4e2bc130e760"
  },
  "kernelspec": {
   "display_name": "Python 3.8.10 ('venv': venv)",
   "language": "python",
   "name": "python3"
  },
  "language_info": {
   "codemirror_mode": {
    "name": "ipython",
    "version": 3
   },
   "file_extension": ".py",
   "mimetype": "text/x-python",
   "name": "python",
   "nbconvert_exporter": "python",
   "pygments_lexer": "ipython3",
   "version": "3.8.19"
  },
  "orig_nbformat": 4
 },
 "nbformat": 4,
 "nbformat_minor": 2
}
